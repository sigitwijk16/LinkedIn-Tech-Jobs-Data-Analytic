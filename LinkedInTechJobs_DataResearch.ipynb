{
  "cells": [
    {
      "cell_type": "markdown",
      "metadata": {
        "id": "TcEsN7L2OKuR"
      },
      "source": [
        "# LinkedIn Tech Jobs Dataset Analytics"
      ]
    },
    {
      "cell_type": "markdown",
      "metadata": {
        "id": "hC2cbcSUNf3u"
      },
      "source": [
        "*# This is actually a weekly assignment for my Big Data & Predictive Analytics, but I got pretty interested so I put quite the effort*"
      ]
    },
    {
      "cell_type": "code",
      "execution_count": 2,
      "metadata": {
        "colab": {
          "base_uri": "https://localhost:8080/"
        },
        "id": "leESMz1BB5oJ",
        "outputId": "c69e4c7a-7584-4710-a537-635832dce105"
      },
      "outputs": [
        {
          "name": "stdout",
          "output_type": "stream",
          "text": [
            "Collecting pyspark\n",
            "  Downloading pyspark-3.4.1.tar.gz (310.8 MB)\n",
            "\u001b[2K     \u001b[90m━━━━━━━━━━━━━━━━━━━━━━━━━━━━━━━━━━━━━━━\u001b[0m \u001b[32m310.8/310.8 MB\u001b[0m \u001b[31m4.1 MB/s\u001b[0m eta \u001b[36m0:00:00\u001b[0m\n",
            "\u001b[?25h  Preparing metadata (setup.py) ... \u001b[?25l\u001b[?25hdone\n",
            "Requirement already satisfied: py4j==0.10.9.7 in /usr/local/lib/python3.10/dist-packages (from pyspark) (0.10.9.7)\n",
            "Building wheels for collected packages: pyspark\n",
            "  Building wheel for pyspark (setup.py) ... \u001b[?25l\u001b[?25hdone\n",
            "  Created wheel for pyspark: filename=pyspark-3.4.1-py2.py3-none-any.whl size=311285387 sha256=1944a08d7080add325169a380c49f62ced8b92a31bd437e734af6a55f8e4c2a6\n",
            "  Stored in directory: /root/.cache/pip/wheels/0d/77/a3/ff2f74cc9ab41f8f594dabf0579c2a7c6de920d584206e0834\n",
            "Successfully built pyspark\n",
            "Installing collected packages: pyspark\n",
            "Successfully installed pyspark-3.4.1\n"
          ]
        }
      ],
      "source": [
        "# Install PySpark\n",
        "!pip install pyspark"
      ]
    },
    {
      "cell_type": "code",
      "execution_count": 3,
      "metadata": {
        "colab": {
          "base_uri": "https://localhost:8080/"
        },
        "id": "0GyNA31mB25H",
        "outputId": "fd442c43-154a-49d6-c423-ecada0df07d6"
      },
      "outputs": [
        {
          "name": "stdout",
          "output_type": "stream",
          "text": [
            "Mounted at /content/drive\n"
          ]
        }
      ],
      "source": [
        "# Mount Google Drive\n",
        "from google.colab import drive\n",
        "\n",
        "drive.mount('/content/drive')"
      ]
    },
    {
      "cell_type": "code",
      "execution_count": 4,
      "metadata": {
        "id": "-pycxUWzCMjO"
      },
      "outputs": [],
      "source": [
        "# Import SparkSession from pyspark.sql\n",
        "from pyspark.sql import SparkSession\n",
        "\n",
        "# Create instance of SparkSession builder\n",
        "spark = SparkSession.builder.appName('data_manipulation').getOrCreate()"
      ]
    },
    {
      "cell_type": "code",
      "execution_count": 5,
      "metadata": {
        "colab": {
          "base_uri": "https://localhost:8080/"
        },
        "id": "qwzXc0WVCMou",
        "outputId": "1dac4ecb-e464-414e-cc64-fe1fc9b7a566"
      },
      "outputs": [
        {
          "name": "stdout",
          "output_type": "stream",
          "text": [
            "yes\n"
          ]
        }
      ],
      "source": [
        "# Validate spark session status\n",
        "\n",
        "if (spark.getActiveSession()):\n",
        "    print('yes')\n",
        "else:\n",
        "    print('no')"
      ]
    },
    {
      "cell_type": "code",
      "execution_count": 6,
      "metadata": {
        "colab": {
          "base_uri": "https://localhost:8080/"
        },
        "id": "_pDMl1omCcq3",
        "outputId": "7e999a1c-2a90-4cbb-801b-e174623a728e"
      },
      "outputs": [
        {
          "name": "stdout",
          "output_type": "stream",
          "text": [
            "+------------+-------+--------------------+------------+----------------+------------------+----------+-----------------+--------------+--------------------+------+---+----+------+-----+-----+------+-----+-----+---+---+-----+---+-------+----+----------+-----+----+----------+------+-----+-------+---+---+-------+------+-----+--------+--------+----+---+\n",
            "|Company_Name|  Class|         Designation|    Location|Total_applicants|LinkedIn_Followers|     Level|      Involvement|Employee_count|            Industry|PYTHON|C++|JAVA|HADOOP|SCALA|FLASK|PANDAS|SPARK|NUMPY|PHP|SQL|MYSQL|CSS|MONGODB|NLTK|TENSORFLOW|LINUX|RUBY|JAVASCRIPT|DJANGO|REACT|REACTJS| AI| UI|TABLEAU|NODEJS|EXCEL|POWER BI|SELENIUM|HTML| ML|\n",
            "+------------+-------+--------------------+------------+----------------+------------------+----------+-----------------+--------------+--------------------+------+---+----+------+-----+-----+------+-----+-----+---+---+-----+---+-------+----+----------+-----+----+----------+------+-----+-------+---+---+-------+------+-----+--------+--------+----+---+\n",
            "|       Wipro|Class 3|     Project Manager| Maharashtra|               0|           6737300|Full-time |      Entry level|         10001| IT Services and ...|     0|  0|   0|     0|    1|    0|     0|    0|    0|  0|  0|    0|  0|      0|   0|         0|    0|   0|         0|     0|    0|      0|  1|  1|      0|     0|    1|       0|       0|   0|  1|\n",
            "|       Wipro|Class 3|     Project Manager|       Delhi|             121|           6737300|Full-time |      Entry level|         10001| IT Services and ...|     0|  0|   0|     0|    1|    0|     0|    0|    0|  0|  0|    0|  0|      0|   0|         0|    0|   0|         0|     0|    0|      0|  1|  1|      0|     0|    1|       0|       0|   0|  1|\n",
            "|       Wipro|Class 3|     Project Manager|       Delhi|               0|           6737300|Full-time |      Entry level|         10001| IT Services and ...|     0|  0|   0|     0|    1|    0|     0|    0|    0|  0|  0|    0|  0|      0|   0|         0|    0|   0|         0|     0|    0|      0|  1|  1|      0|     0|    1|       0|       0|   0|  1|\n",
            "|       Wipro|Class 3|       Administrator|   Telangana|               0|           6737300|Full-time | Mid-Senior level|         10001| IT Services and ...|     0|  0|   0|     0|    1|    0|     0|    0|    0|  0|  0|    0|  0|      0|   0|         0|    0|   0|         0|     0|    0|      0|  1|  1|      0|     0|    1|       0|       0|   0|  0|\n",
            "|       Wipro|Class 3|     Project Manager| Maharashtra|             119|           6737300|Full-time |      Entry level|         10001| IT Services and ...|     0|  0|   0|     0|    1|    0|     0|    0|    0|  0|  0|    0|  0|      0|   0|         0|    0|   0|         0|     0|    0|      0|  1|  1|      0|     0|    1|       0|       0|   0|  1|\n",
            "|       Wipro|Class 3|       Administrator|   Telangana|              39|           6737300|Full-time | Mid-Senior level|         10001| IT Services and ...|     0|  0|   0|     0|    1|    0|     0|    0|    0|  0|  0|    0|  0|      0|   0|         0|    0|   0|         0|     0|    0|      0|  1|  1|      0|     0|    1|       0|       0|   0|  0|\n",
            "|       Wipro|Class 3|       Administrator|   Telangana|              22|           6737300|Full-time | Mid-Senior level|         10001| IT Services and ...|     0|  0|   0|     0|    1|    0|     0|    0|    0|  0|  0|    0|  0|      0|   0|         0|    0|   0|         0|     0|    0|      0|  1|  1|      0|     0|    1|       0|       0|   0|  0|\n",
            "|       Wipro|Class 3|       Test Engineer| Maharashtra|             158|           6737300|Full-time |      Entry level|         10001| IT Services and ...|     0|  0|   0|     0|    0|    0|     0|    0|    0|  0|  0|    0|  0|      0|   0|         0|    0|   0|         0|     0|    0|      0|  1|  1|      0|     0|    1|       0|       0|   0|  0|\n",
            "|       Wipro|Class 3|       Administrator| Maharashtra|              11|           6737300|Full-time | Mid-Senior level|         10001| IT Services and ...|     0|  0|   0|     0|    1|    0|     0|    0|    0|  0|  0|    0|  0|      0|   0|         0|    0|   0|         0|     0|    0|      0|  1|  1|      0|     0|    1|       0|       0|   0|  0|\n",
            "|       Wipro|Class 3|       Administrator| Maharashtra|              47|           6737300|Full-time | Mid-Senior level|         10001| IT Services and ...|     0|  0|   0|     0|    1|    0|     0|    0|    0|  0|  0|    0|  0|      0|   0|         0|    0|   0|         0|     0|    0|      0|  1|  1|      0|     0|    1|       0|       0|   0|  0|\n",
            "|       Wipro|Class 3|Service Level Man...| Maharashtra|              20|           6737300|Full-time | Mid-Senior level|         10001| IT Services and ...|     0|  0|   0|     0|    0|    0|     0|    0|    0|  0|  0|    0|  0|      0|   0|         0|    0|   0|         0|     0|    0|      0|  1|  1|      0|     0|    1|       0|       0|   0|  0|\n",
            "|       Wipro|Class 3|       Administrator| Maharashtra|              71|           6737300|Full-time | Mid-Senior level|         10001| IT Services and ...|     0|  0|   0|     0|    1|    0|     0|    0|    0|  0|  0|    0|  0|      0|   0|         0|    0|   0|         0|     0|    0|      0|  1|  1|      0|     0|    1|       0|       0|   0|  0|\n",
            "|       Wipro|Class 3|     Project Manager| Maharashtra|               1|           6737300|Full-time |      Entry level|         10001| IT Services and ...|     0|  0|   0|     0|    1|    0|     0|    0|    0|  0|  0|    0|  0|      0|   0|         0|    0|   0|         0|     0|    0|      0|  1|  1|      0|     0|    1|       0|       0|   0|  1|\n",
            "|       Wipro|Class 3|     System Engineer| Maharashtra|             104|           6737300|Full-time |      Entry level|         10001| IT Services and ...|     0|  0|   0|     0|    1|    0|     0|    0|    0|  0|  0|    0|  0|      0|   0|         0|    0|   0|         0|     0|    0|      0|  1|  1|      0|     0|    1|       0|       0|   0|  0|\n",
            "|       Wipro|Class 3|       Test Engineer|   Karnataka|               0|           6737300|Full-time |      Entry level|         10001| IT Services and ...|     0|  0|   0|     0|    0|    0|     0|    0|    0|  0|  0|    0|  0|      0|   0|         0|    0|   0|         0|     0|    0|      0|  1|  1|      0|     0|    1|       0|       0|   0|  0|\n",
            "|       Wipro|Class 3|     System Engineer| Maharashtra|               0|           6737300|Full-time |      Entry level|         10001| IT Services and ...|     0|  0|   0|     0|    1|    0|     0|    0|    0|  0|  0|    0|  0|      0|   0|         0|    0|   0|         0|     0|    0|      0|  1|  1|      0|     0|    1|       0|       0|   0|  0|\n",
            "|       Wipro|Class 3|     Project Manager|   Karnataka|               0|           6737300|Full-time |      Entry level|         10001| IT Services and ...|     0|  0|   0|     0|    1|    0|     0|    0|    0|  0|  0|    0|  0|      0|   0|         0|    0|   0|         0|     0|    0|      0|  1|  1|      0|     0|    1|       0|       0|   0|  1|\n",
            "|       Wipro|Class 3|  Lead Administrator| Maharashtra|               5|           6737300|Full-time | Mid-Senior level|         10001| IT Services and ...|     0|  0|   0|     0|    1|    0|     0|    0|    0|  0|  0|    0|  0|      0|   0|         0|    0|   0|         0|     0|    0|      0|  1|  1|      0|     0|    1|       0|       0|   0|  0|\n",
            "|       Wipro|Class 3|  Lead Administrator| Maharashtra|               8|           6737300|Full-time | Mid-Senior level|         10001| IT Services and ...|     1|  0|   0|     0|    0|    0|     0|    0|    0|  0|  1|    0|  0|      1|   0|         0|    0|   0|         0|     0|    0|      0|  1|  0|      0|     0|    0|       0|       0|   0|  0|\n",
            "|       Wipro|Class 3|    Business Analyst|   Karnataka|               0|           6737300|Full-time | Mid-Senior level|         10001| IT Services and ...|     0|  0|   0|     0|    0|    0|     0|    0|    0|  0|  0|    0|  0|      0|   0|         0|    0|   0|         0|     0|    0|      0|  1|  1|      0|     0|    1|       0|       0|   0|  1|\n",
            "+------------+-------+--------------------+------------+----------------+------------------+----------+-----------------+--------------+--------------------+------+---+----+------+-----+-----+------+-----+-----+---+---+-----+---+-------+----+----------+-----+----+----------+------+-----+-------+---+---+-------+------+-----+--------+--------+----+---+\n",
            "only showing top 20 rows\n",
            "\n"
          ]
        }
      ],
      "source": [
        "# The DataFrame is from https://www.kaggle.com/datasets/joebeachcapital/linkedin-jobs\n",
        "\n",
        "# Load dataset as PySpark DataFrame\n",
        "linkinjobs = spark.read.csv(\"/content/drive/linkedin_job.csv\", header = True, inferSchema = True)\n",
        "\n",
        "# Show 20 top rows\n",
        "linkinjobs.show()"
      ]
    },
    {
      "cell_type": "code",
      "execution_count": 7,
      "metadata": {
        "colab": {
          "base_uri": "https://localhost:8080/"
        },
        "id": "uXczrS9NDIKH",
        "outputId": "689d24a5-26e0-4804-8b94-a77ca25807d3"
      },
      "outputs": [
        {
          "name": "stdout",
          "output_type": "stream",
          "text": [
            "root\n",
            " |-- Company_Name: string (nullable = true)\n",
            " |-- Class: string (nullable = true)\n",
            " |-- Designation: string (nullable = true)\n",
            " |-- Location: string (nullable = true)\n",
            " |-- Total_applicants: integer (nullable = true)\n",
            " |-- LinkedIn_Followers: integer (nullable = true)\n",
            " |-- Level: string (nullable = true)\n",
            " |-- Involvement: string (nullable = true)\n",
            " |-- Employee_count: integer (nullable = true)\n",
            " |-- Industry: string (nullable = true)\n",
            " |-- PYTHON: integer (nullable = true)\n",
            " |-- C++: integer (nullable = true)\n",
            " |-- JAVA: integer (nullable = true)\n",
            " |-- HADOOP: integer (nullable = true)\n",
            " |-- SCALA: integer (nullable = true)\n",
            " |-- FLASK: integer (nullable = true)\n",
            " |-- PANDAS: integer (nullable = true)\n",
            " |-- SPARK: integer (nullable = true)\n",
            " |-- NUMPY: integer (nullable = true)\n",
            " |-- PHP: integer (nullable = true)\n",
            " |-- SQL: integer (nullable = true)\n",
            " |-- MYSQL: integer (nullable = true)\n",
            " |-- CSS: integer (nullable = true)\n",
            " |-- MONGODB: integer (nullable = true)\n",
            " |-- NLTK: integer (nullable = true)\n",
            " |-- TENSORFLOW: integer (nullable = true)\n",
            " |-- LINUX: integer (nullable = true)\n",
            " |-- RUBY: integer (nullable = true)\n",
            " |-- JAVASCRIPT: integer (nullable = true)\n",
            " |-- DJANGO: integer (nullable = true)\n",
            " |-- REACT: integer (nullable = true)\n",
            " |-- REACTJS: integer (nullable = true)\n",
            " |-- AI: integer (nullable = true)\n",
            " |-- UI: integer (nullable = true)\n",
            " |-- TABLEAU: integer (nullable = true)\n",
            " |-- NODEJS: integer (nullable = true)\n",
            " |-- EXCEL: integer (nullable = true)\n",
            " |-- POWER BI: integer (nullable = true)\n",
            " |-- SELENIUM: integer (nullable = true)\n",
            " |-- HTML: integer (nullable = true)\n",
            " |-- ML: integer (nullable = true)\n",
            "\n"
          ]
        }
      ],
      "source": [
        "# Print columns' names and datatypes\n",
        "linkinjobs.printSchema()\n"
      ]
    },
    {
      "cell_type": "code",
      "execution_count": 8,
      "metadata": {
        "colab": {
          "base_uri": "https://localhost:8080/"
        },
        "id": "cpZjVHErGefv",
        "outputId": "37021a35-a30b-460d-c53c-eafd3b69f099"
      },
      "outputs": [
        {
          "name": "stdout",
          "output_type": "stream",
          "text": [
            "+------------+-------+--------------------+------------+----------------+------------------+-----------+-----------------+--------------+--------------------+------+---+----+------+-----+-----+------+-----+-----+---+---+-----+---+-------+----+----------+-----+----+----------+------+-----+-------+---+---+-------+------+-----+--------+--------+----+---+\n",
            "|Company_Name|  Class|         Designation|    Location|Total_Applicants|LinkedIn_Followers|Involvement|            Level|Employee_Count|            Industry|PYTHON|C++|JAVA|HADOOP|SCALA|FLASK|PANDAS|SPARK|NUMPY|PHP|SQL|MYSQL|CSS|MONGODB|NLTK|TENSORFLOW|LINUX|RUBY|JAVASCRIPT|DJANGO|REACT|REACTJS| AI| UI|TABLEAU|NODEJS|EXCEL|POWER BI|SELENIUM|HTML| ML|\n",
            "+------------+-------+--------------------+------------+----------------+------------------+-----------+-----------------+--------------+--------------------+------+---+----+------+-----+-----+------+-----+-----+---+---+-----+---+-------+----+----------+-----+----+----------+------+-----+-------+---+---+-------+------+-----+--------+--------+----+---+\n",
            "|       Wipro|Class 3|     Project Manager| Maharashtra|               0|           6737300| Full-time |      Entry level|         10001| IT Services and ...|     0|  0|   0|     0|    1|    0|     0|    0|    0|  0|  0|    0|  0|      0|   0|         0|    0|   0|         0|     0|    0|      0|  1|  1|      0|     0|    1|       0|       0|   0|  1|\n",
            "|       Wipro|Class 3|     Project Manager|       Delhi|             121|           6737300| Full-time |      Entry level|         10001| IT Services and ...|     0|  0|   0|     0|    1|    0|     0|    0|    0|  0|  0|    0|  0|      0|   0|         0|    0|   0|         0|     0|    0|      0|  1|  1|      0|     0|    1|       0|       0|   0|  1|\n",
            "|       Wipro|Class 3|     Project Manager|       Delhi|               0|           6737300| Full-time |      Entry level|         10001| IT Services and ...|     0|  0|   0|     0|    1|    0|     0|    0|    0|  0|  0|    0|  0|      0|   0|         0|    0|   0|         0|     0|    0|      0|  1|  1|      0|     0|    1|       0|       0|   0|  1|\n",
            "|       Wipro|Class 3|       Administrator|   Telangana|               0|           6737300| Full-time | Mid-Senior level|         10001| IT Services and ...|     0|  0|   0|     0|    1|    0|     0|    0|    0|  0|  0|    0|  0|      0|   0|         0|    0|   0|         0|     0|    0|      0|  1|  1|      0|     0|    1|       0|       0|   0|  0|\n",
            "|       Wipro|Class 3|     Project Manager| Maharashtra|             119|           6737300| Full-time |      Entry level|         10001| IT Services and ...|     0|  0|   0|     0|    1|    0|     0|    0|    0|  0|  0|    0|  0|      0|   0|         0|    0|   0|         0|     0|    0|      0|  1|  1|      0|     0|    1|       0|       0|   0|  1|\n",
            "|       Wipro|Class 3|       Administrator|   Telangana|              39|           6737300| Full-time | Mid-Senior level|         10001| IT Services and ...|     0|  0|   0|     0|    1|    0|     0|    0|    0|  0|  0|    0|  0|      0|   0|         0|    0|   0|         0|     0|    0|      0|  1|  1|      0|     0|    1|       0|       0|   0|  0|\n",
            "|       Wipro|Class 3|       Administrator|   Telangana|              22|           6737300| Full-time | Mid-Senior level|         10001| IT Services and ...|     0|  0|   0|     0|    1|    0|     0|    0|    0|  0|  0|    0|  0|      0|   0|         0|    0|   0|         0|     0|    0|      0|  1|  1|      0|     0|    1|       0|       0|   0|  0|\n",
            "|       Wipro|Class 3|       Test Engineer| Maharashtra|             158|           6737300| Full-time |      Entry level|         10001| IT Services and ...|     0|  0|   0|     0|    0|    0|     0|    0|    0|  0|  0|    0|  0|      0|   0|         0|    0|   0|         0|     0|    0|      0|  1|  1|      0|     0|    1|       0|       0|   0|  0|\n",
            "|       Wipro|Class 3|       Administrator| Maharashtra|              11|           6737300| Full-time | Mid-Senior level|         10001| IT Services and ...|     0|  0|   0|     0|    1|    0|     0|    0|    0|  0|  0|    0|  0|      0|   0|         0|    0|   0|         0|     0|    0|      0|  1|  1|      0|     0|    1|       0|       0|   0|  0|\n",
            "|       Wipro|Class 3|       Administrator| Maharashtra|              47|           6737300| Full-time | Mid-Senior level|         10001| IT Services and ...|     0|  0|   0|     0|    1|    0|     0|    0|    0|  0|  0|    0|  0|      0|   0|         0|    0|   0|         0|     0|    0|      0|  1|  1|      0|     0|    1|       0|       0|   0|  0|\n",
            "|       Wipro|Class 3|Service Level Man...| Maharashtra|              20|           6737300| Full-time | Mid-Senior level|         10001| IT Services and ...|     0|  0|   0|     0|    0|    0|     0|    0|    0|  0|  0|    0|  0|      0|   0|         0|    0|   0|         0|     0|    0|      0|  1|  1|      0|     0|    1|       0|       0|   0|  0|\n",
            "|       Wipro|Class 3|       Administrator| Maharashtra|              71|           6737300| Full-time | Mid-Senior level|         10001| IT Services and ...|     0|  0|   0|     0|    1|    0|     0|    0|    0|  0|  0|    0|  0|      0|   0|         0|    0|   0|         0|     0|    0|      0|  1|  1|      0|     0|    1|       0|       0|   0|  0|\n",
            "|       Wipro|Class 3|     Project Manager| Maharashtra|               1|           6737300| Full-time |      Entry level|         10001| IT Services and ...|     0|  0|   0|     0|    1|    0|     0|    0|    0|  0|  0|    0|  0|      0|   0|         0|    0|   0|         0|     0|    0|      0|  1|  1|      0|     0|    1|       0|       0|   0|  1|\n",
            "|       Wipro|Class 3|     System Engineer| Maharashtra|             104|           6737300| Full-time |      Entry level|         10001| IT Services and ...|     0|  0|   0|     0|    1|    0|     0|    0|    0|  0|  0|    0|  0|      0|   0|         0|    0|   0|         0|     0|    0|      0|  1|  1|      0|     0|    1|       0|       0|   0|  0|\n",
            "|       Wipro|Class 3|       Test Engineer|   Karnataka|               0|           6737300| Full-time |      Entry level|         10001| IT Services and ...|     0|  0|   0|     0|    0|    0|     0|    0|    0|  0|  0|    0|  0|      0|   0|         0|    0|   0|         0|     0|    0|      0|  1|  1|      0|     0|    1|       0|       0|   0|  0|\n",
            "|       Wipro|Class 3|     System Engineer| Maharashtra|               0|           6737300| Full-time |      Entry level|         10001| IT Services and ...|     0|  0|   0|     0|    1|    0|     0|    0|    0|  0|  0|    0|  0|      0|   0|         0|    0|   0|         0|     0|    0|      0|  1|  1|      0|     0|    1|       0|       0|   0|  0|\n",
            "|       Wipro|Class 3|     Project Manager|   Karnataka|               0|           6737300| Full-time |      Entry level|         10001| IT Services and ...|     0|  0|   0|     0|    1|    0|     0|    0|    0|  0|  0|    0|  0|      0|   0|         0|    0|   0|         0|     0|    0|      0|  1|  1|      0|     0|    1|       0|       0|   0|  1|\n",
            "|       Wipro|Class 3|  Lead Administrator| Maharashtra|               5|           6737300| Full-time | Mid-Senior level|         10001| IT Services and ...|     0|  0|   0|     0|    1|    0|     0|    0|    0|  0|  0|    0|  0|      0|   0|         0|    0|   0|         0|     0|    0|      0|  1|  1|      0|     0|    1|       0|       0|   0|  0|\n",
            "|       Wipro|Class 3|  Lead Administrator| Maharashtra|               8|           6737300| Full-time | Mid-Senior level|         10001| IT Services and ...|     1|  0|   0|     0|    0|    0|     0|    0|    0|  0|  1|    0|  0|      1|   0|         0|    0|   0|         0|     0|    0|      0|  1|  0|      0|     0|    0|       0|       0|   0|  0|\n",
            "|       Wipro|Class 3|    Business Analyst|   Karnataka|               0|           6737300| Full-time | Mid-Senior level|         10001| IT Services and ...|     0|  0|   0|     0|    0|    0|     0|    0|    0|  0|  0|    0|  0|      0|   0|         0|    0|   0|         0|     0|    0|      0|  1|  1|      0|     0|    1|       0|       0|   0|  1|\n",
            "+------------+-------+--------------------+------------+----------------+------------------+-----------+-----------------+--------------+--------------------+------+---+----+------+-----+-----+------+-----+-----+---+---+-----+---+-------+----+----------+-----+----+----------+------+-----+-------+---+---+-------+------+-----+--------+--------+----+---+\n",
            "only showing top 20 rows\n",
            "\n"
          ]
        }
      ],
      "source": [
        "# Swap column names of Level and Involvement as they seem to be mismatched with the column values\n",
        "linkinjob_rev = linkinjobs.withColumnRenamed(\"Involvement\", \"LevelTemp\").withColumnRenamed(\"Level\", \"Involvement\").withColumnRenamed(\"LevelTemp\", \"Level\")\\\n",
        ".withColumnRenamed(\"Total_applicants\", \"Total_Applicants\").withColumnRenamed(\"Employee_count\", \"Employee_Count\")\n",
        "\n",
        "# Print swapped dataframe top rows\n",
        "linkinjob_rev.show()"
      ]
    },
    {
      "cell_type": "code",
      "execution_count": 9,
      "metadata": {
        "colab": {
          "base_uri": "https://localhost:8080/"
        },
        "id": "M2M159cODLpF",
        "outputId": "b97ac0b8-ace0-4a3e-e0c3-774dfbd18c8b"
      },
      "outputs": [
        {
          "name": "stdout",
          "output_type": "stream",
          "text": [
            "(811, 41)\n"
          ]
        }
      ],
      "source": [
        "# Print dataframe rows and columns count\n",
        "print((linkinjob_rev.count(),len(linkinjob_rev.columns)))"
      ]
    },
    {
      "cell_type": "markdown",
      "metadata": {
        "id": "BTFv7WzVDWFa"
      },
      "source": [
        "# Selecting\n"
      ]
    },
    {
      "cell_type": "code",
      "execution_count": 10,
      "metadata": {
        "colab": {
          "base_uri": "https://localhost:8080/"
        },
        "id": "aHJs0e8gDa1m",
        "outputId": "399f7a28-d0e4-45c5-9eed-4ff39475052c"
      },
      "outputs": [
        {
          "name": "stdout",
          "output_type": "stream",
          "text": [
            "Jobs by Total Applicants\n",
            "+--------------------+--------------------+----------------+------------+-----------------+\n",
            "|        Company_Name|         Designation|Total_Applicants|    Location|            Level|\n",
            "+--------------------+--------------------+----------------+------------+-----------------+\n",
            "|Tata Consultancy ...|             Node JS|             196|   Karnataka| Mid-Senior level|\n",
            "|               Wipro|           Developer|             191| Maharashtra|      Entry level|\n",
            "|             Infosys|Technology Analys...|             191|     Haryana|        Associate|\n",
            "|               Wipro|    Business Analyst|             186| Maharashtra| Mid-Senior level|\n",
            "|IDESLABS PRIVATE ...|       Manual Tester|             178|   Telangana|      Entry level|\n",
            "|             Infosys|    Dotnet Developer|             170|      Kerala| Mid-Senior level|\n",
            "|Tata Consultancy ...|              Python|             168|   Telangana|        Associate|\n",
            "|IDESLABS PRIVATE ...|    Delivery Manager|             167|   Telangana| Mid-Senior level|\n",
            "|              Uplers|      UI/UX Designer|             167|   Rajasthan| Mid-Senior level|\n",
            "|              Uplers|      UI/UX Designer|             166|   Rajasthan| Mid-Senior level|\n",
            "|IDESLABS PRIVATE ...|           Team Lead|             158|   Telangana| Mid-Senior level|\n",
            "|               Wipro|       Test Engineer|             158| Maharashtra|      Entry level|\n",
            "|               Wipro|Cyber Security An...|             156|      Kerala|      Entry level|\n",
            "|               Wipro|           Developer|             156| Maharashtra|      Entry level|\n",
            "|IDESLABS PRIVATE ...|            Lead-PMO|             156| Maharashtra| Mid-Senior level|\n",
            "|               Wipro|    Delivery Manager|             153|   Karnataka| Mid-Senior level|\n",
            "|               Wipro|        Project Lead|             152|   Karnataka| Mid-Senior level|\n",
            "|               Wipro|           Developer|             148|     Haryana|      Entry level|\n",
            "|Tata Consultancy ...|              Python|             148|   Telangana| Mid-Senior level|\n",
            "|               Wipro|Manager – Learnin...|             145|   Karnataka| Mid-Senior level|\n",
            "+--------------------+--------------------+----------------+------------+-----------------+\n",
            "only showing top 20 rows\n",
            "\n"
          ]
        }
      ],
      "source": [
        "# Selecting few columns of dataframe into a new dataframe\n",
        "selected1 = linkinjob_rev.select('Company_Name', 'Designation', 'Total_Applicants', 'Location', 'Level')\n",
        "\n",
        "# Print dataframe rows sorted by Total_Applicants descending\n",
        "print(\"Jobs by Total Applicants\")\n",
        "selected1.orderBy(['Total_Applicants'], ascending=False).show()"
      ]
    },
    {
      "cell_type": "code",
      "execution_count": 12,
      "metadata": {
        "colab": {
          "base_uri": "https://localhost:8080/"
        },
        "id": "fC2K0S7ejJle",
        "outputId": "1a3d85a8-eb10-4e4e-9b90-f4ff8f15a917"
      },
      "outputs": [
        {
          "name": "stdout",
          "output_type": "stream",
          "text": [
            "Java Jobs\n",
            "+------------+--------------------+----------------+----+\n",
            "|Company_Name|         Designation|Total_Applicants|Java|\n",
            "+------------+--------------------+----------------+----+\n",
            "|       Wipro|     Project Manager|              52|   1|\n",
            "|       Wipro|           Developer|             156|   1|\n",
            "|       Wipro|       Test Engineer|               0|   1|\n",
            "| LTIMindtree|      Java Developer|              22|   1|\n",
            "| LTIMindtree|      Java Developer|               6|   1|\n",
            "| LTIMindtree|PLSQL Development...|              48|   1|\n",
            "| LTIMindtree|      Java Developer|               0|   1|\n",
            "| LTIMindtree|      Java Developer|               6|   1|\n",
            "| LTIMindtree|      Java Developer|               5|   1|\n",
            "| LTIMindtree|      APEX Developer|              12|   1|\n",
            "| LTIMindtree|      Java Developer|               2|   1|\n",
            "| LTIMindtree|Java Back-end Dev...|              25|   1|\n",
            "| LTIMindtree|Infra Cloud Archi...|               0|   1|\n",
            "| LTIMindtree|Looking for PHP D...|              36|   1|\n",
            "| LTIMindtree|'Java Full stack ...|              42|   1|\n",
            "| LTIMindtree|Java Back-end Dev...|              14|   1|\n",
            "| LTIMindtree|      APEX Developer|              19|   1|\n",
            "| LTIMindtree|  Technical Director|               2|   1|\n",
            "| LTIMindtree|Java Full Stack w...|               0|   1|\n",
            "| LTIMindtree|'Java Full stack ...|              37|   1|\n",
            "+------------+--------------------+----------------+----+\n",
            "only showing top 20 rows\n",
            "\n"
          ]
        }
      ],
      "source": [
        "# Import col from PySpark sql functions\n",
        "from pyspark.sql.functions import col\n",
        "\n",
        "# Selecting few columns of dataframe\n",
        "selected2 = linkinjob_rev.select('Company_Name', 'Designation', 'Total_Applicants', 'JAVA')\n",
        "\n",
        "# Change column name JAVA to Java\n",
        "selected2_1 = selected2.withColumnRenamed(\"JAVA\", \"Java\")\n",
        "\n",
        "# Print dataframe rows with jobs that require Java Skill\n",
        "print(\"Java Jobs\")\n",
        "selected2_1.where(col(\"Java\") == 1).show()"
      ]
    },
    {
      "cell_type": "markdown",
      "metadata": {
        "id": "DM8vEG6PQP2u"
      },
      "source": [
        "# Filtering"
      ]
    },
    {
      "cell_type": "code",
      "execution_count": 13,
      "metadata": {
        "colab": {
          "base_uri": "https://localhost:8080/"
        },
        "id": "qm3IhCr7QN-j",
        "outputId": "758a600b-6959-4471-bbd3-2edef8e84470"
      },
      "outputs": [
        {
          "name": "stdout",
          "output_type": "stream",
          "text": [
            "+--------------------+--------------------+----------------+--------------+------------+\n",
            "|        Company_Name|         Designation|Total_Applicants|      Location|       Level|\n",
            "+--------------------+--------------------+----------------+--------------+------------+\n",
            "|IDESLABS PRIVATE ...|          AWS DevOps|               2|     Telangana| Entry level|\n",
            "| ACURA SOLUTIONS LTD|Hiring for Associ...|               2| Uttar Pradesh| Entry level|\n",
            "|IDESLABS PRIVATE ...|Associate Tech Sp...|               2|   Maharashtra| Entry level|\n",
            "|         LTIMindtree|      Java Developer|               2|    Tamil Nadu| Entry level|\n",
            "|IDESLABS PRIVATE ...|Associate Tech Sp...|               2|   Maharashtra| Entry level|\n",
            "|         LTIMindtree| SAP Data Specialist|               2|     Karnataka| Entry level|\n",
            "|IDESLABS PRIVATE ...| .Net Core Developer|               2|   Maharashtra| Entry level|\n",
            "|         LTIMindtree|Java Full Stack w...|               2|   Maharashtra| Entry level|\n",
            "|IDESLABS PRIVATE ...|Associate Securit...|               2|     Karnataka| Entry level|\n",
            "|         LTIMindtree|Oracle Apps Techn...|               2| Uttar Pradesh| Entry level|\n",
            "|IDESLABS PRIVATE ...|      Pega Developer|               2|     Telangana| Entry level|\n",
            "|IDESLABS PRIVATE ...|      SQL Server DBA|               2|     Telangana| Entry level|\n",
            "|IDESLABS PRIVATE ...|        AWS ENGINEER|               2|     Telangana| Entry level|\n",
            "|         LTIMindtree|JDE Technical PAN...|               2|   Maharashtra| Entry level|\n",
            "| ACURA SOLUTIONS LTD|Node.js Developer...|               2|   Maharashtra| Entry level|\n",
            "|         LTIMindtree|Sharepoint Developer|               2|     Telangana| Entry level|\n",
            "| ACURA SOLUTIONS LTD|   Teller Authorizer|               2|     Telangana| Entry level|\n",
            "|         LTIMindtree|JDE Technical PAN...|               2| Uttar Pradesh| Entry level|\n",
            "| ACURA SOLUTIONS LTD|   Teller Authorizer|               2|     Karnataka| Entry level|\n",
            "|         LTIMindtree|EBS Finance Funct...|               2|         Delhi| Entry level|\n",
            "+--------------------+--------------------+----------------+--------------+------------+\n",
            "only showing top 20 rows\n",
            "\n"
          ]
        }
      ],
      "source": [
        "# When I use df.column_name and \"==\" operand my code runs but the rows are blank,\n",
        "# I also tried df['column_name'] to address the column but I got same result, df.select(\"column_name\") doesn't work either\n",
        "# then I found df.column_name.contains(\"string\") that got the job done\n",
        "\n",
        "\n",
        "# Filter for Level that contains \"Entry level\"\n",
        "filterA = linkinjob_rev.Level.contains(\"Entry level\")\n",
        "\n",
        "# Filter for jobs that have more than 1 applicants\n",
        "filterB = linkinjob_rev.Total_Applicants > 1\n",
        "\n",
        "# Applying the filter to a new dataframe\n",
        "selected2 = selected1.filter(filterA).filter(filterB).orderBy(['Total_Applicants'], ascending=True)\n",
        "\n",
        "# Print dataframe top rows\n",
        "selected2.show()"
      ]
    },
    {
      "cell_type": "code",
      "execution_count": 20,
      "metadata": {
        "colab": {
          "base_uri": "https://localhost:8080/"
        },
        "id": "-J3OQLHVOg7l",
        "outputId": "eb794290-d076-4f11-8618-0ef4bd4b35e2"
      },
      "outputs": [
        {
          "name": "stdout",
          "output_type": "stream",
          "text": [
            "+--------------------+--------+----------------+-----------------+----------+\n",
            "|        Company_Name|Location|Total_Applicants|            Level|Java_Skill|\n",
            "+--------------------+--------+----------------+-----------------+----------+\n",
            "|         LTIMindtree|   Delhi|               0|      Entry level|       Yes|\n",
            "|         LTIMindtree|   Delhi|               0| Mid-Senior level|       Yes|\n",
            "|         LTIMindtree|   Delhi|              36|      Entry level|       Yes|\n",
            "|         LTIMindtree|   Delhi|               2|         Director|       Yes|\n",
            "|         LTIMindtree|   Delhi|               2|      Entry level|       Yes|\n",
            "|         LTIMindtree|   Delhi|               3|      Entry level|       Yes|\n",
            "|         LTIMindtree|   Delhi|               7|      Entry level|       Yes|\n",
            "|         LTIMindtree|   Delhi|              19|      Entry level|       Yes|\n",
            "|IDESLABS PRIVATE ...|   Delhi|              11|      Entry level|       Yes|\n",
            "| ACURA SOLUTIONS LTD|   Delhi|              18|      Entry level|       Yes|\n",
            "|              Uplers|   Delhi|              32| Mid-Senior level|       Yes|\n",
            "+--------------------+--------+----------------+-----------------+----------+\n",
            "\n"
          ]
        }
      ],
      "source": [
        "# Import method StringType to convert column datatype to String\n",
        "from pyspark.sql.types import StringType\n",
        "\n",
        "# Selecting some columns and renaming JAVA to Java_Skill\n",
        "selected3 = linkinjob_rev.select(\"Company_Name\", \"Location\", \"Total_Applicants\", \"Level\", \"JAVA\").withColumnRenamed(\"JAVA\", \"Java_Skill\")\n",
        "\n",
        "# Convert Java_Skill column to String\n",
        "selected33 = selected3.withColumn(\"Java_Skill\", selected3[\"Java_Skill\"].cast(StringType()))\n",
        "\n",
        "# Replace '1' value with 'Yes' in Java_Skill\n",
        "selected3new = selected33.replace(['1'],['Yes'],'Java_Skill')\n",
        "\n",
        "# Replace '0' value with 'No' in Java_Skill\n",
        "selected3new1 = selected3new.replace(['0'],['No'],'Java_Skill')\n",
        "\n",
        "# Filter for Location == \"Delhi\"\n",
        "filterC = selected3new1.Location.contains(\"Delhi\")\n",
        "\n",
        "# Filter for Java_Skill == \"Yes\"\n",
        "filterD = selected3new1.Java_Skill.contains(\"Yes\")\n",
        "\n",
        "# Applying the filter to a new dataframe\n",
        "selected4 = selected3new1.filter(filterC).filter(filterD)\n",
        "\n",
        "# Print dataframe top rows\n",
        "selected4.show()"
      ]
    },
    {
      "cell_type": "markdown",
      "metadata": {
        "id": "xuq_eM4NqdOi"
      },
      "source": [
        "# Aggregating"
      ]
    },
    {
      "cell_type": "code",
      "execution_count": 21,
      "metadata": {
        "colab": {
          "base_uri": "https://localhost:8080/"
        },
        "id": "jANq0dQXqRM1",
        "outputId": "fccbb197-aeca-448c-d0cd-a0b6c0776777"
      },
      "outputs": [
        {
          "name": "stdout",
          "output_type": "stream",
          "text": [
            "+-------+------------------+------------------+-----------------+\n",
            "|summary|  Total_Applicants|LinkedIn_Followers|   Employee_Count|\n",
            "+-------+------------------+------------------+-----------------+\n",
            "|  count|               811|               811|              811|\n",
            "|   mean|23.432799013563503|1401891.1134401972|5177.552404438964|\n",
            "| stddev| 35.13777271035743|2688592.5313296667| 4194.16958135799|\n",
            "|    min|                 0|             11245|              110|\n",
            "|    max|               196|          11996967|            10001|\n",
            "+-------+------------------+------------------+-----------------+\n",
            "\n",
            "+--------------------+-------+-----------+----------+----------------+------------------+-----------+-----------------+--------------+--------------------+------+---+----+------+-----+-----+------+-----+-----+---+---+-----+---+-------+----+----------+-----+----+----------+------+-----+-------+---+---+-------+------+-----+--------+--------+----+---+\n",
            "|        Company_Name|  Class|Designation|  Location|Total_Applicants|LinkedIn_Followers|Involvement|            Level|Employee_Count|            Industry|PYTHON|C++|JAVA|HADOOP|SCALA|FLASK|PANDAS|SPARK|NUMPY|PHP|SQL|MYSQL|CSS|MONGODB|NLTK|TENSORFLOW|LINUX|RUBY|JAVASCRIPT|DJANGO|REACT|REACTJS| AI| UI|TABLEAU|NODEJS|EXCEL|POWER BI|SELENIUM|HTML| ML|\n",
            "+--------------------+-------+-----------+----------+----------------+------------------+-----------+-----------------+--------------+--------------------+------+---+----+------+-----+-----+------+-----+-----+---+---+-----+---+-------+----+----------+-----+----+----------+------+-----+-------+---+---+-------+------+-----+--------+--------+----+---+\n",
            "|Tata Consultancy ...|Class 3|    Node JS| Karnataka|             196|          11996967| Full-time | Mid-Senior level|         10001| IT Services and ...|     0|  0|   1|     0|    0|    0|     0|    0|    0|  0|  0|    0|  0|      0|   0|         0|    0|   0|         1|     0|    0|      0|  1|  1|      0|     0|    0|       0|       0|   0|  0|\n",
            "+--------------------+-------+-----------+----------+----------------+------------------+-----------+-----------------+--------------+--------------------+------+---+----+------+-----+-----+------+-----+-----+---+---+-----+---+-------+----+----------+-----+----+----------+------+-----+-------+---+---+-------+------+-----+--------+--------+----+---+\n",
            "\n"
          ]
        }
      ],
      "source": [
        "# Print describe method for Total_Applicants, LinkedIn_Followers and Employee_Count\n",
        "linkinjob_rev.describe('Total_Applicants', \"LinkedIn_Followers\", \"Employee_Count\").show()\n",
        "\n",
        "# Select the max value for Total_Applicants and save the value\n",
        "max_applicants = linkinjob_rev.agg({\"Total_Applicants\": \"max\"}).collect()[0][0]\n",
        "\n",
        "# Filter row where max Total_Applicant is\n",
        "max_applicants_row = linkinjob_rev.filter(col(\"Total_Applicants\") == max_applicants)\n",
        "\n",
        "# Print the row\n",
        "max_applicants_row.show()"
      ]
    },
    {
      "cell_type": "markdown",
      "metadata": {
        "id": "V6FZuYkWqhu_"
      },
      "source": [
        "# Looping Through Row and Columns to Append Needed Skill to An Array then Returning the Array as a PySpark Dataframe Column"
      ]
    },
    {
      "cell_type": "markdown",
      "metadata": {
        "id": "xjPpmA6pCUoR"
      },
      "source": [
        "Originally, after looking at this dataset, I immediately thought about adding a column for the qualifications/skills required for a job description in the dataset. I tried to write the code for it, but it turned out to be quite complex and challenging. So, in the end, I decided to seek AI assistance in creating the code. The code should function by looping through specific rows and columns where programming skills/languages are indicated (with the language column having values of 0 and 1). If a value of 1 (true) is found, it should append the name of the language column with a value of true to an array called \"qualification.\" Once the looping is complete, the function should return this array as a new column in the dataframe. This way, we can identify the programming languages or qualifications required for the job description in that particular row. By creating this new column, we can explore the dataset further and obtain more comprehensive and clear information."
      ]
    },
    {
      "cell_type": "code",
      "execution_count": 23,
      "metadata": {
        "id": "fnhnDEzj7KqB"
      },
      "outputs": [],
      "source": [
        "# Import needed library\n",
        "\n",
        "import numpy as np\n",
        "from pyspark.sql.functions import col, create_map\n",
        "from pyspark.sql.types import MapType, ArrayType, StringType"
      ]
    },
    {
      "cell_type": "code",
      "execution_count": 24,
      "metadata": {
        "colab": {
          "base_uri": "https://localhost:8080/"
        },
        "id": "7NpzHQSb-ccH",
        "outputId": "eb10267f-6e86-48ec-f60b-e42ca3a9f540"
      },
      "outputs": [
        {
          "name": "stdout",
          "output_type": "stream",
          "text": [
            "+------------+-------+---------------------+------------+----------------+------------------+-----------+-----------------+--------------+------------------------------+------+---+----+------+-----+-----+------+-----+-----+---+---+-----+---+-------+----+----------+-----+----+----------+------+-----+-------+---+---+-------+------+-----+--------+--------+----+---+--------------------------+\n",
            "|Company_Name|Class  |Designation          |Location    |Total_Applicants|LinkedIn_Followers|Involvement|Level            |Employee_Count|Industry                      |PYTHON|C++|JAVA|HADOOP|SCALA|FLASK|PANDAS|SPARK|NUMPY|PHP|SQL|MYSQL|CSS|MONGODB|NLTK|TENSORFLOW|LINUX|RUBY|JAVASCRIPT|DJANGO|REACT|REACTJS|AI |UI |TABLEAU|NODEJS|EXCEL|POWER BI|SELENIUM|HTML|ML |Qualification             |\n",
            "+------------+-------+---------------------+------------+----------------+------------------+-----------+-----------------+--------------+------------------------------+------+---+----+------+-----+-----+------+-----+-----+---+---+-----+---+-------+----+----------+-----+----+----------+------+-----+-------+---+---+-------+------+-----+--------+--------+----+---+--------------------------+\n",
            "|Wipro       |Class 3|Project Manager      | Maharashtra|0               |6737300           |Full-time  | Entry level     |10001         | IT Services and IT Consulting|0     |0  |0   |0     |1    |0    |0     |0    |0    |0  |0  |0    |0  |0      |0   |0         |0    |0   |0         |0     |0    |0      |1  |1  |0      |0     |1    |0       |0       |0   |1  |[SCALA, AI, UI, EXCEL, ML]|\n",
            "|Wipro       |Class 3|Project Manager      | Delhi      |121             |6737300           |Full-time  | Entry level     |10001         | IT Services and IT Consulting|0     |0  |0   |0     |1    |0    |0     |0    |0    |0  |0  |0    |0  |0      |0   |0         |0    |0   |0         |0     |0    |0      |1  |1  |0      |0     |1    |0       |0       |0   |1  |[SCALA, AI, UI, EXCEL, ML]|\n",
            "|Wipro       |Class 3|Project Manager      | Delhi      |0               |6737300           |Full-time  | Entry level     |10001         | IT Services and IT Consulting|0     |0  |0   |0     |1    |0    |0     |0    |0    |0  |0  |0    |0  |0      |0   |0         |0    |0   |0         |0     |0    |0      |1  |1  |0      |0     |1    |0       |0       |0   |1  |[SCALA, AI, UI, EXCEL, ML]|\n",
            "|Wipro       |Class 3|Administrator        | Telangana  |0               |6737300           |Full-time  | Mid-Senior level|10001         | IT Services and IT Consulting|0     |0  |0   |0     |1    |0    |0     |0    |0    |0  |0  |0    |0  |0      |0   |0         |0    |0   |0         |0     |0    |0      |1  |1  |0      |0     |1    |0       |0       |0   |0  |[SCALA, AI, UI, EXCEL]    |\n",
            "|Wipro       |Class 3|Project Manager      | Maharashtra|119             |6737300           |Full-time  | Entry level     |10001         | IT Services and IT Consulting|0     |0  |0   |0     |1    |0    |0     |0    |0    |0  |0  |0    |0  |0      |0   |0         |0    |0   |0         |0     |0    |0      |1  |1  |0      |0     |1    |0       |0       |0   |1  |[SCALA, AI, UI, EXCEL, ML]|\n",
            "|Wipro       |Class 3|Administrator        | Telangana  |39              |6737300           |Full-time  | Mid-Senior level|10001         | IT Services and IT Consulting|0     |0  |0   |0     |1    |0    |0     |0    |0    |0  |0  |0    |0  |0      |0   |0         |0    |0   |0         |0     |0    |0      |1  |1  |0      |0     |1    |0       |0       |0   |0  |[SCALA, AI, UI, EXCEL]    |\n",
            "|Wipro       |Class 3|Administrator        | Telangana  |22              |6737300           |Full-time  | Mid-Senior level|10001         | IT Services and IT Consulting|0     |0  |0   |0     |1    |0    |0     |0    |0    |0  |0  |0    |0  |0      |0   |0         |0    |0   |0         |0     |0    |0      |1  |1  |0      |0     |1    |0       |0       |0   |0  |[SCALA, AI, UI, EXCEL]    |\n",
            "|Wipro       |Class 3|Test Engineer        | Maharashtra|158             |6737300           |Full-time  | Entry level     |10001         | IT Services and IT Consulting|0     |0  |0   |0     |0    |0    |0     |0    |0    |0  |0  |0    |0  |0      |0   |0         |0    |0   |0         |0     |0    |0      |1  |1  |0      |0     |1    |0       |0       |0   |0  |[AI, UI, EXCEL]           |\n",
            "|Wipro       |Class 3|Administrator        | Maharashtra|11              |6737300           |Full-time  | Mid-Senior level|10001         | IT Services and IT Consulting|0     |0  |0   |0     |1    |0    |0     |0    |0    |0  |0  |0    |0  |0      |0   |0         |0    |0   |0         |0     |0    |0      |1  |1  |0      |0     |1    |0       |0       |0   |0  |[SCALA, AI, UI, EXCEL]    |\n",
            "|Wipro       |Class 3|Administrator        | Maharashtra|47              |6737300           |Full-time  | Mid-Senior level|10001         | IT Services and IT Consulting|0     |0  |0   |0     |1    |0    |0     |0    |0    |0  |0  |0    |0  |0      |0   |0         |0    |0   |0         |0     |0    |0      |1  |1  |0      |0     |1    |0       |0       |0   |0  |[SCALA, AI, UI, EXCEL]    |\n",
            "|Wipro       |Class 3|Service Level Manager| Maharashtra|20              |6737300           |Full-time  | Mid-Senior level|10001         | IT Services and IT Consulting|0     |0  |0   |0     |0    |0    |0     |0    |0    |0  |0  |0    |0  |0      |0   |0         |0    |0   |0         |0     |0    |0      |1  |1  |0      |0     |1    |0       |0       |0   |0  |[AI, UI, EXCEL]           |\n",
            "|Wipro       |Class 3|Administrator        | Maharashtra|71              |6737300           |Full-time  | Mid-Senior level|10001         | IT Services and IT Consulting|0     |0  |0   |0     |1    |0    |0     |0    |0    |0  |0  |0    |0  |0      |0   |0         |0    |0   |0         |0     |0    |0      |1  |1  |0      |0     |1    |0       |0       |0   |0  |[SCALA, AI, UI, EXCEL]    |\n",
            "|Wipro       |Class 3|Project Manager      | Maharashtra|1               |6737300           |Full-time  | Entry level     |10001         | IT Services and IT Consulting|0     |0  |0   |0     |1    |0    |0     |0    |0    |0  |0  |0    |0  |0      |0   |0         |0    |0   |0         |0     |0    |0      |1  |1  |0      |0     |1    |0       |0       |0   |1  |[SCALA, AI, UI, EXCEL, ML]|\n",
            "|Wipro       |Class 3|System Engineer      | Maharashtra|104             |6737300           |Full-time  | Entry level     |10001         | IT Services and IT Consulting|0     |0  |0   |0     |1    |0    |0     |0    |0    |0  |0  |0    |0  |0      |0   |0         |0    |0   |0         |0     |0    |0      |1  |1  |0      |0     |1    |0       |0       |0   |0  |[SCALA, AI, UI, EXCEL]    |\n",
            "|Wipro       |Class 3|Test Engineer        | Karnataka  |0               |6737300           |Full-time  | Entry level     |10001         | IT Services and IT Consulting|0     |0  |0   |0     |0    |0    |0     |0    |0    |0  |0  |0    |0  |0      |0   |0         |0    |0   |0         |0     |0    |0      |1  |1  |0      |0     |1    |0       |0       |0   |0  |[AI, UI, EXCEL]           |\n",
            "|Wipro       |Class 3|System Engineer      | Maharashtra|0               |6737300           |Full-time  | Entry level     |10001         | IT Services and IT Consulting|0     |0  |0   |0     |1    |0    |0     |0    |0    |0  |0  |0    |0  |0      |0   |0         |0    |0   |0         |0     |0    |0      |1  |1  |0      |0     |1    |0       |0       |0   |0  |[SCALA, AI, UI, EXCEL]    |\n",
            "|Wipro       |Class 3|Project Manager      | Karnataka  |0               |6737300           |Full-time  | Entry level     |10001         | IT Services and IT Consulting|0     |0  |0   |0     |1    |0    |0     |0    |0    |0  |0  |0    |0  |0      |0   |0         |0    |0   |0         |0     |0    |0      |1  |1  |0      |0     |1    |0       |0       |0   |1  |[SCALA, AI, UI, EXCEL, ML]|\n",
            "|Wipro       |Class 3|Lead Administrator   | Maharashtra|5               |6737300           |Full-time  | Mid-Senior level|10001         | IT Services and IT Consulting|0     |0  |0   |0     |1    |0    |0     |0    |0    |0  |0  |0    |0  |0      |0   |0         |0    |0   |0         |0     |0    |0      |1  |1  |0      |0     |1    |0       |0       |0   |0  |[SCALA, AI, UI, EXCEL]    |\n",
            "|Wipro       |Class 3|Lead Administrator   | Maharashtra|8               |6737300           |Full-time  | Mid-Senior level|10001         | IT Services and IT Consulting|1     |0  |0   |0     |0    |0    |0     |0    |0    |0  |1  |0    |0  |1      |0   |0         |0    |0   |0         |0     |0    |0      |1  |0  |0      |0     |0    |0       |0       |0   |0  |[PYTHON, SQL, MONGODB, AI]|\n",
            "|Wipro       |Class 3|Business Analyst     | Karnataka  |0               |6737300           |Full-time  | Mid-Senior level|10001         | IT Services and IT Consulting|0     |0  |0   |0     |0    |0    |0     |0    |0    |0  |0  |0    |0  |0      |0   |0         |0    |0   |0         |0     |0    |0      |1  |1  |0      |0     |1    |0       |0       |0   |1  |[AI, UI, EXCEL, ML]       |\n",
            "+------------+-------+---------------------+------------+----------------+------------------+-----------+-----------------+--------------+------------------------------+------+---+----+------+-----+-----+------+-----+-----+---+---+-----+---+-------+----+----------+-----+----+----------+------+-----+-------+---+---+-------+------+-----+--------+--------+----+---+--------------------------+\n",
            "only showing top 20 rows\n",
            "\n"
          ]
        }
      ],
      "source": [
        "# Define specific columns to check for the value 1\n",
        "columns_to_check = linkinjob_rev.columns[10:]\n",
        "\n",
        "# Function to find qualifications for a row\n",
        "def find_qualifications(*cols):\n",
        "    qualifications = []\n",
        "    for i, col_name in enumerate(columns_to_check):\n",
        "        if cols[i] == 1:\n",
        "            qualifications.append(col_name)\n",
        "    return qualifications\n",
        "\n",
        "# Define a UDF (User Defined Function) to apply the find_qualifications function\n",
        "from pyspark.sql.functions import udf\n",
        "from pyspark.sql.types import ArrayType, StringType\n",
        "\n",
        "find_qualifications_udf = udf(find_qualifications, ArrayType(StringType()))\n",
        "\n",
        "# Add the \"qualification\" column to the DataFrame\n",
        "linkinjob_qualification = linkinjob_rev.withColumn(\"Qualification\", find_qualifications_udf(*[col(col_name) for col_name in columns_to_check]))\n",
        "\n",
        "# Show the DataFrame with the added \"qualification\" column\n",
        "linkinjob_qualification.show(truncate=False)"
      ]
    },
    {
      "cell_type": "markdown",
      "metadata": {
        "id": "MsCdG-qSGlsR"
      },
      "source": [
        "# Exploring Further"
      ]
    },
    {
      "cell_type": "code",
      "execution_count": 25,
      "metadata": {
        "colab": {
          "base_uri": "https://localhost:8080/"
        },
        "id": "lSHi0ORIFFvR",
        "outputId": "b54150c0-4593-4bcc-e76c-897c9e6cae09"
      },
      "outputs": [
        {
          "name": "stdout",
          "output_type": "stream",
          "text": [
            "+-------------------------+----------------------------------------+------------+----------------+---------------------------------------------------------+---------------+\n",
            "|Company_Name             |Designation                             |Location    |Total_Applicants|Qualification                                            |Languages_Count|\n",
            "+-------------------------+----------------------------------------+------------+----------------+---------------------------------------------------------+---------------+\n",
            "|Tata Consultancy Services|Node JS                                 | Karnataka  |196             |[JAVA, JAVASCRIPT, AI, UI]                               |4              |\n",
            "|Wipro                    |Developer                               | Maharashtra|191             |[AI, UI, EXCEL]                                          |3              |\n",
            "|Infosys                  |Technology Analyst - .Net               | Haryana    |191             |[AI, UI]                                                 |2              |\n",
            "|Wipro                    |Business Analyst                        | Maharashtra|186             |[AI, UI]                                                 |2              |\n",
            "|IDESLABS PRIVATE LIMITED |Manual Tester                           | Telangana  |178             |[AI]                                                     |1              |\n",
            "|Infosys                  |Dotnet Developer                        | Kerala     |170             |[AI, UI]                                                 |2              |\n",
            "|Tata Consultancy Services|Python                                  | Telangana  |168             |[PYTHON, SCALA, FLASK, DJANGO, AI, UI, ML]               |7              |\n",
            "|IDESLABS PRIVATE LIMITED |Delivery Manager                        | Telangana  |167             |[SCALA, AI, UI]                                          |3              |\n",
            "|Uplers                   |UI/UX Designer                          | Rajasthan  |167             |[JAVA, PHP, SQL, CSS, AI, UI, EXCEL, HTML, ML]           |9              |\n",
            "|Uplers                   |UI/UX Designer                          | Rajasthan  |166             |[JAVA, PHP, SQL, CSS, AI, UI, EXCEL, HTML, ML]           |9              |\n",
            "|IDESLABS PRIVATE LIMITED |Team Lead                               | Telangana  |158             |[AI, UI]                                                 |2              |\n",
            "|Wipro                    |Test Engineer                           | Maharashtra|158             |[AI, UI, EXCEL]                                          |3              |\n",
            "|Wipro                    |Cyber Security Analyst                  | Kerala     |156             |[SCALA, AI, UI, EXCEL]                                   |4              |\n",
            "|Wipro                    |Developer                               | Maharashtra|156             |[JAVA, SQL, CSS, JAVASCRIPT, REACT, UI, NODEJS, HTML, ML]|9              |\n",
            "|IDESLABS PRIVATE LIMITED |Lead-PMO                                | Maharashtra|156             |[AI, UI]                                                 |2              |\n",
            "|Wipro                    |Delivery Manager                        | Karnataka  |153             |[SCALA, AI, UI, EXCEL]                                   |4              |\n",
            "|Wipro                    |Project Lead                            | Karnataka  |152             |[AI, UI]                                                 |2              |\n",
            "|Wipro                    |Developer                               | Haryana    |148             |[AI, UI]                                                 |2              |\n",
            "|Tata Consultancy Services|Python                                  | Telangana  |148             |[PYTHON, SCALA, AI, UI, EXCEL, ML]                       |6              |\n",
            "|Wipro                    |Manager – Learning and Development (I&D)| Karnataka  |145             |[AI, UI, EXCEL]                                          |3              |\n",
            "+-------------------------+----------------------------------------+------------+----------------+---------------------------------------------------------+---------------+\n",
            "only showing top 20 rows\n",
            "\n"
          ]
        }
      ],
      "source": [
        "# Import the size function for counting the number of elements in an array in PySpark\n",
        "from pyspark.sql.functions import size\n",
        "\n",
        "# Creating a new dataframe with the result of counting the number of programming language elements required for a job description\n",
        "languages = linkinjob_qualification.withColumn(\"Languages_Count\", size(\"Qualification\"))\n",
        "\n",
        "languages_sel = languages.select(\"Company_Name\", \"Designation\", \"Location\", \"Total_Applicants\", \"Qualification\", \"Languages_Count\")\n",
        "\n",
        "sorted_languages = languages_sel.orderBy(\"Total_Applicants\", ascending=False)\n",
        "\n",
        "sorted_languages.show(truncate=False)"
      ]
    },
    {
      "cell_type": "code",
      "execution_count": 26,
      "metadata": {
        "colab": {
          "base_uri": "https://localhost:8080/"
        },
        "id": "26xozzjHIjJm",
        "outputId": "ac08f039-9515-4f2e-bf99-413a9ba1a489"
      },
      "outputs": [
        {
          "name": "stdout",
          "output_type": "stream",
          "text": [
            "+-------------------+--------------------------------------------------------------------+--------------+----------------+-----------------------------------------------------------------------------------------+---------------+\n",
            "|Company_Name       |Designation                                                         |Location      |Total_Applicants|Qualification                                                                            |Languages_Count|\n",
            "+-------------------+--------------------------------------------------------------------+--------------+----------------+-----------------------------------------------------------------------------------------+---------------+\n",
            "|Uplers             |Python Software Engineer                                            | Tamil Nadu   |35              |[PYTHON, JAVA, FLASK, SQL, MYSQL, CSS, MONGODB, JAVASCRIPT, DJANGO, AI, UI, HTML, ML]    |13             |\n",
            "|Uplers             |Python Software Engineer                                            | Gujarat      |44              |[PYTHON, JAVA, FLASK, SQL, MYSQL, CSS, MONGODB, JAVASCRIPT, DJANGO, AI, UI, HTML, ML]    |13             |\n",
            "|Uplers             |Python Web Developer                                                | India        |36              |[PYTHON, JAVA, FLASK, SQL, MYSQL, CSS, MONGODB, JAVASCRIPT, DJANGO, AI, UI, HTML, ML]    |13             |\n",
            "|Uplers             |Software Engineer - Senior                                          | Haryana      |4               |[PYTHON, JAVA, SCALA, PHP, SQL, MYSQL, MONGODB, JAVASCRIPT, REACT, AI, UI, NODEJS, EXCEL]|13             |\n",
            "|Uplers             |Python Web Developer                                                | Telangana    |75              |[PYTHON, JAVA, FLASK, SQL, MYSQL, CSS, MONGODB, JAVASCRIPT, DJANGO, AI, UI, HTML, ML]    |13             |\n",
            "|Uplers             |Python Tech Lead                                                    | Maharashtra  |7               |[PYTHON, JAVA, FLASK, SQL, MYSQL, CSS, MONGODB, JAVASCRIPT, DJANGO, AI, UI, HTML, ML]    |13             |\n",
            "|Uplers             |Web Developer - Python                                              | Tamil Nadu   |66              |[PYTHON, JAVA, FLASK, SQL, MYSQL, CSS, MONGODB, JAVASCRIPT, DJANGO, AI, UI, HTML, ML]    |13             |\n",
            "|Uplers             |Web Developer - Python                                              | Haryana      |24              |[PYTHON, JAVA, FLASK, SQL, MYSQL, CSS, MONGODB, JAVASCRIPT, DJANGO, AI, UI, HTML, ML]    |13             |\n",
            "|Uplers             |Sr. Software Engineer                                               | Haryana      |5               |[PYTHON, JAVA, SCALA, PHP, SQL, MYSQL, MONGODB, JAVASCRIPT, REACT, AI, UI, NODEJS, EXCEL]|13             |\n",
            "|Uplers             |Web Developer - Python                                              | Karnataka    |112             |[PYTHON, JAVA, FLASK, SQL, MYSQL, CSS, MONGODB, JAVASCRIPT, DJANGO, AI, UI, HTML, ML]    |13             |\n",
            "|Uplers             |Associate Python Programmer                                         | India        |38              |[PYTHON, JAVA, FLASK, SQL, MYSQL, CSS, MONGODB, JAVASCRIPT, DJANGO, AI, UI, HTML, ML]    |13             |\n",
            "|Uplers             |Associate Python Programmer                                         | Gujarat      |59              |[PYTHON, JAVA, FLASK, SQL, MYSQL, CSS, MONGODB, JAVASCRIPT, DJANGO, AI, UI, HTML, ML]    |13             |\n",
            "|Uplers             |Staff Software Engineer                                             | Haryana      |11              |[PYTHON, JAVA, SCALA, PHP, SQL, MYSQL, MONGODB, JAVASCRIPT, REACT, AI, UI, NODEJS, EXCEL]|13             |\n",
            "|Uplers             |Senior Python Programmer                                            | Tamil Nadu   |20              |[PYTHON, JAVA, FLASK, SQL, MYSQL, CSS, MONGODB, JAVASCRIPT, DJANGO, AI, UI, HTML, ML]    |13             |\n",
            "|Uplers             |Python Developer - WFH                                              | Haryana      |79              |[PYTHON, JAVA, FLASK, SQL, MYSQL, CSS, MONGODB, JAVASCRIPT, DJANGO, AI, UI, HTML, ML]    |13             |\n",
            "|Uplers             |Python Developer - WFH                                              | Maharashtra  |75              |[PYTHON, JAVA, FLASK, SQL, MYSQL, CSS, MONGODB, JAVASCRIPT, DJANGO, AI, UI, HTML, ML]    |13             |\n",
            "|ACURA SOLUTIONS LTD|Associate Software Engineer- React Js with a Leading Fintech Company| Uttar Pradesh|11              |[JAVA, SQL, MYSQL, CSS, MONGODB, RUBY, JAVASCRIPT, REACT, AI, EXCEL, HTML, ML]           |12             |\n",
            "|Uplers             |Artificial Intelligence Engineer - WFH                              | Maharashtra  |19              |[PYTHON, C++, JAVA, HADOOP, SPARK, NLTK, LINUX, JAVASCRIPT, AI, UI, ML]                  |11             |\n",
            "|Uplers             |ML Engineer - Remote                                                | India        |12              |[PYTHON, C++, JAVA, HADOOP, SPARK, NLTK, LINUX, JAVASCRIPT, AI, UI, ML]                  |11             |\n",
            "|Uplers             |AI Engineer - WFH                                                   | Maharashtra  |64              |[PYTHON, C++, JAVA, HADOOP, SPARK, NLTK, LINUX, JAVASCRIPT, AI, UI, ML]                  |11             |\n",
            "+-------------------+--------------------------------------------------------------------+--------------+----------------+-----------------------------------------------------------------------------------------+---------------+\n",
            "only showing top 20 rows\n",
            "\n"
          ]
        }
      ],
      "source": [
        "sorted_languages2 = languages_sel.orderBy(\"Languages_Count\", ascending=False)\n",
        "\n",
        "sorted_languages2.show(truncate=False)"
      ]
    },
    {
      "cell_type": "code",
      "execution_count": 35,
      "metadata": {
        "colab": {
          "base_uri": "https://localhost:8080/"
        },
        "id": "NIFVFEjkLRVY",
        "outputId": "0a54173d-0314-47e0-f6d0-6134d6a68a30"
      },
      "outputs": [
        {
          "name": "stdout",
          "output_type": "stream",
          "text": [
            "+------------+-------+---------------------+------------+----------------+------------------+-----------+-----------------+--------------+--------------------------+---------------+\n",
            "|Company_Name|Class  |Designation          |Location    |Total_Applicants|LinkedIn_Followers|Involvement|Level            |Employee_Count|Qualification             |Languages_Count|\n",
            "+------------+-------+---------------------+------------+----------------+------------------+-----------+-----------------+--------------+--------------------------+---------------+\n",
            "|Wipro       |Class 3|Project Manager      | Maharashtra|0               |6737300           |Full-time  | Entry level     |10001         |[SCALA, AI, UI, EXCEL, ML]|5              |\n",
            "|Wipro       |Class 3|Project Manager      | Delhi      |121             |6737300           |Full-time  | Entry level     |10001         |[SCALA, AI, UI, EXCEL, ML]|5              |\n",
            "|Wipro       |Class 3|Project Manager      | Delhi      |0               |6737300           |Full-time  | Entry level     |10001         |[SCALA, AI, UI, EXCEL, ML]|5              |\n",
            "|Wipro       |Class 3|Administrator        | Telangana  |0               |6737300           |Full-time  | Mid-Senior level|10001         |[SCALA, AI, UI, EXCEL]    |4              |\n",
            "|Wipro       |Class 3|Project Manager      | Maharashtra|119             |6737300           |Full-time  | Entry level     |10001         |[SCALA, AI, UI, EXCEL, ML]|5              |\n",
            "|Wipro       |Class 3|Administrator        | Telangana  |39              |6737300           |Full-time  | Mid-Senior level|10001         |[SCALA, AI, UI, EXCEL]    |4              |\n",
            "|Wipro       |Class 3|Administrator        | Telangana  |22              |6737300           |Full-time  | Mid-Senior level|10001         |[SCALA, AI, UI, EXCEL]    |4              |\n",
            "|Wipro       |Class 3|Test Engineer        | Maharashtra|158             |6737300           |Full-time  | Entry level     |10001         |[AI, UI, EXCEL]           |3              |\n",
            "|Wipro       |Class 3|Administrator        | Maharashtra|11              |6737300           |Full-time  | Mid-Senior level|10001         |[SCALA, AI, UI, EXCEL]    |4              |\n",
            "|Wipro       |Class 3|Administrator        | Maharashtra|47              |6737300           |Full-time  | Mid-Senior level|10001         |[SCALA, AI, UI, EXCEL]    |4              |\n",
            "|Wipro       |Class 3|Service Level Manager| Maharashtra|20              |6737300           |Full-time  | Mid-Senior level|10001         |[AI, UI, EXCEL]           |3              |\n",
            "|Wipro       |Class 3|Administrator        | Maharashtra|71              |6737300           |Full-time  | Mid-Senior level|10001         |[SCALA, AI, UI, EXCEL]    |4              |\n",
            "|Wipro       |Class 3|Project Manager      | Maharashtra|1               |6737300           |Full-time  | Entry level     |10001         |[SCALA, AI, UI, EXCEL, ML]|5              |\n",
            "|Wipro       |Class 3|System Engineer      | Maharashtra|104             |6737300           |Full-time  | Entry level     |10001         |[SCALA, AI, UI, EXCEL]    |4              |\n",
            "|Wipro       |Class 3|Test Engineer        | Karnataka  |0               |6737300           |Full-time  | Entry level     |10001         |[AI, UI, EXCEL]           |3              |\n",
            "|Wipro       |Class 3|System Engineer      | Maharashtra|0               |6737300           |Full-time  | Entry level     |10001         |[SCALA, AI, UI, EXCEL]    |4              |\n",
            "|Wipro       |Class 3|Project Manager      | Karnataka  |0               |6737300           |Full-time  | Entry level     |10001         |[SCALA, AI, UI, EXCEL, ML]|5              |\n",
            "|Wipro       |Class 3|Lead Administrator   | Maharashtra|5               |6737300           |Full-time  | Mid-Senior level|10001         |[SCALA, AI, UI, EXCEL]    |4              |\n",
            "|Wipro       |Class 3|Lead Administrator   | Maharashtra|8               |6737300           |Full-time  | Mid-Senior level|10001         |[PYTHON, SQL, MONGODB, AI]|4              |\n",
            "|Wipro       |Class 3|Business Analyst     | Karnataka  |0               |6737300           |Full-time  | Mid-Senior level|10001         |[AI, UI, EXCEL, ML]       |4              |\n",
            "+------------+-------+---------------------+------------+----------------+------------------+-----------+-----------------+--------------+--------------------------+---------------+\n",
            "only showing top 20 rows\n",
            "\n"
          ]
        }
      ],
      "source": [
        "# We can even drop the programming language columns as we have already saved it in the Qualification column\n",
        "\n",
        "# Creating indexes for columns from Industry to ML\n",
        "columns_to_drop_indices = list(range(9, 41))\n",
        "\n",
        "# Copying the dataframe that already contains the Languages_Count column\n",
        "lang_todrop = languages\n",
        "\n",
        "# Retrieve the column names from index 9 to 41\n",
        "column_names_to_drop = [lang_todrop.columns[i] for i in columns_to_drop_indices]\n",
        "\n",
        "# Drop columns with the collected names\n",
        "lang_dropped = lang_todrop.drop(*column_names_to_drop)\n",
        "\n",
        "# Print dataframe with dropped columns\n",
        "lang_dropped.show(truncate=False)"
      ]
    },
    {
      "cell_type": "code",
      "execution_count": 38,
      "metadata": {
        "colab": {
          "base_uri": "https://localhost:8080/"
        },
        "id": "QFsYbOEXKxUW",
        "outputId": "5d27910e-971e-4de4-dd92-86ca49145494"
      },
      "outputs": [
        {
          "name": "stdout",
          "output_type": "stream",
          "text": [
            "+------------+-------+-------------------------------------------+------------+----------------+------------------+-----------+-----------------+--------------+---------------------------------------------------------+---------------+\n",
            "|Company_Name|Class  |Designation                                |Location    |Total_Applicants|LinkedIn_Followers|Involvement|Level            |Employee_Count|Qualification                                            |Languages_Count|\n",
            "+------------+-------+-------------------------------------------+------------+----------------+------------------+-----------+-----------------+--------------+---------------------------------------------------------+---------------+\n",
            "|Wipro       |Class 3|Project Manager                            | West Bengal|52              |6737300           |Full-time  | Entry level     |10001         |[JAVA, AI, UI, SELENIUM]                                 |4              |\n",
            "|Wipro       |Class 3|Developer                                  | Maharashtra|156             |6737300           |Full-time  | Entry level     |10001         |[JAVA, SQL, CSS, JAVASCRIPT, REACT, UI, NODEJS, HTML, ML]|9              |\n",
            "|Wipro       |Class 3|Test Engineer                              | Tamil Nadu |0               |6737300           |Full-time  | Entry level     |10001         |[JAVA, JAVASCRIPT, AI, NODEJS, EXCEL]                    |5              |\n",
            "|LTIMindtree |Class 1|Java Developer                             | Telangana  |22              |270280            |Full-time  | Entry level     |10001         |[JAVA, CSS, HTML, ML]                                    |4              |\n",
            "|LTIMindtree |Class 1|Java Developer                             | Karnataka  |6               |270280            |Full-time  | Entry level     |10001         |[JAVA, CSS, HTML, ML]                                    |4              |\n",
            "|LTIMindtree |Class 1|PLSQL Development - LTIMindtree.           | Tamil Nadu |48              |270280            |Full-time  | Entry level     |10001         |[JAVA, SQL, CSS, AI, UI, HTML, ML]                       |7              |\n",
            "|LTIMindtree |Class 1|Java Developer                             | Delhi      |0               |270280            |Full-time  | Entry level     |10001         |[JAVA, CSS, HTML, ML]                                    |4              |\n",
            "|LTIMindtree |Class 1|Java Developer                             | Maharashtra|6               |270280            |Full-time  | Entry level     |10001         |[JAVA, SQL, LINUX, AI]                                   |4              |\n",
            "|LTIMindtree |Class 1|Java Developer                             | Maharashtra|5               |270280            |Full-time  | Entry level     |10001         |[JAVA, SQL, LINUX, AI]                                   |4              |\n",
            "|LTIMindtree |Class 1|APEX Developer                             | Maharashtra|12              |270280            |Full-time  | Entry level     |10001         |[JAVA, SQL, CSS, JAVASCRIPT, AI, EXCEL, HTML, ML]        |8              |\n",
            "|LTIMindtree |Class 1|Java Developer                             | Tamil Nadu |2               |270280            |Full-time  | Entry level     |10001         |[JAVA, SQL, LINUX, AI]                                   |4              |\n",
            "|LTIMindtree |Class 1|Java Back-end Developer                    | Maharashtra|25              |270280            |Full-time  | Entry level     |10001         |[JAVA, SQL, LINUX, AI]                                   |4              |\n",
            "|LTIMindtree |Class 1|Infra Cloud Architect                      | Delhi      |0               |270280            |Full-time  | Mid-Senior level|10001         |[JAVA, AI, UI]                                           |3              |\n",
            "|LTIMindtree |Class 1|Looking for PHP Developer                  | Delhi      |36              |270280            |Full-time  | Entry level     |10001         |[JAVA, PHP, SQL, MYSQL, CSS, LINUX, JAVASCRIPT, HTML, ML]|9              |\n",
            "|LTIMindtree |Class 1|'Java Full stack Developer'                | Maharashtra|42              |270280            |Full-time  | Entry level     |10001         |[JAVA, SQL, AI, UI, EXCEL, HTML, ML]                     |7              |\n",
            "|LTIMindtree |Class 1|Java Back-end Developer                    | Maharashtra|14              |270280            |Full-time  | Entry level     |10001         |[JAVA, SQL, LINUX, AI]                                   |4              |\n",
            "|LTIMindtree |Class 1|APEX Developer                             | Tamil Nadu |19              |270280            |Full-time  | Entry level     |10001         |[JAVA, SQL, CSS, JAVASCRIPT, AI, EXCEL, HTML, ML]        |8              |\n",
            "|LTIMindtree |Class 1|Technical Director                         | Delhi      |2               |270280            |Full-time  | Director        |10001         |[JAVA, SQL, AI, UI]                                      |4              |\n",
            "|LTIMindtree |Class 1|Java Full Stack with angular and springboot| Maharashtra|0               |270280            |Full-time  | Entry level     |10001         |[JAVA, SQL, AI, UI, EXCEL]                               |5              |\n",
            "|LTIMindtree |Class 1|'Java Full stack Developer'                | Tamil Nadu |37              |270280            |Full-time  | Entry level     |10001         |[JAVA, SQL, AI, UI, EXCEL, HTML, ML]                     |7              |\n",
            "+------------+-------+-------------------------------------------+------------+----------------+------------------+-----------+-----------------+--------------+---------------------------------------------------------+---------------+\n",
            "only showing top 20 rows\n",
            "\n"
          ]
        }
      ],
      "source": [
        "# Import array_contains function to check array element\n",
        "from pyspark.sql.functions import array_contains\n",
        "\n",
        "# Filter for Qualification column that contains JAVA\n",
        "by_lang = lang_dropped.filter(array_contains(lang_dropped.Qualification, \"JAVA\"))\n",
        "\n",
        "# Print filtered dataframe\n",
        "by_lang.show(truncate=False)"
      ]
    }
  ],
  "metadata": {
    "colab": {
      "provenance": []
    },
    "kernelspec": {
      "display_name": "Python 3",
      "name": "python3"
    },
    "language_info": {
      "name": "python"
    }
  },
  "nbformat": 4,
  "nbformat_minor": 0
}
